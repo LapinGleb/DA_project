{
 "cells": [
  {
   "cell_type": "code",
   "execution_count": 1,
   "id": "9cb7ec15",
   "metadata": {},
   "outputs": [],
   "source": [
    "import requests\n",
    "import pandas as pd\n",
    "import numpy as np\n",
    "from tqdm import tqdm\n",
    "import seaborn as sns"
   ]
  },
  {
   "cell_type": "markdown",
   "id": "7bae2026",
   "metadata": {},
   "source": [
    "# Сбор данных с сайта hh.ru"
   ]
  },
  {
   "cell_type": "code",
   "execution_count": 2,
   "id": "37eb68cd",
   "metadata": {},
   "outputs": [],
   "source": [
    "USER_AGENT = 'Mozilla/5.0 (Windows NT 10.0; Win64; x64) AppleWebKit/537.36 (KHTML, like Gecko) ' \\\n",
    "             'Chrome/104.0.5112.124 YaBrowser/22.9.4.863 Yowser/2.5 Safari/537.36'\n",
    "\n",
    "JOB_TITLE = 'python backend разработчик'\n",
    "URL = 'https://api.hh.ru/vacancies'"
   ]
  },
  {
   "cell_type": "markdown",
   "id": "8e6cd3b8",
   "metadata": {},
   "source": [
    "> ### Собираем id вакансий Python Backend dev"
   ]
  },
  {
   "cell_type": "code",
   "execution_count": 3,
   "id": "9e20991f",
   "metadata": {},
   "outputs": [],
   "source": [
    "def number_of_pages(url: str, job_title: str, per_page=100) -> int:\n",
    "    '''\n",
    "    Получаем количество страниц с вакансиями\n",
    "    '''\n",
    "    param = {'text': job_title, 'per_page': per_page}\n",
    "    req = requests.get(url, params=param)\n",
    "    return req.json()['pages']"
   ]
  },
  {
   "cell_type": "code",
   "execution_count": 4,
   "id": "c84fe1f6",
   "metadata": {},
   "outputs": [],
   "source": [
    "def get_job_id(url: str, job_title: str, per_page=100) -> list:\n",
    "    '''\n",
    "    Функция возвращает список id вакансий с названием job_title\n",
    "    '''\n",
    "    job_id = []\n",
    "    pages = number_of_pages(url, job_title, per_page)\n",
    "    for page in tqdm(range(pages)):\n",
    "        param = {'text': job_title, 'per_page': per_page, 'page': page}\n",
    "        req = requests.get(url, params=param)\n",
    "        vacancies = req.json()\n",
    "        for vac in vacancies.get('items'):\n",
    "            job_id.append(vac.get('id'))\n",
    "    return job_id"
   ]
  },
  {
   "cell_type": "code",
   "execution_count": 5,
   "id": "e35010ce",
   "metadata": {},
   "outputs": [
    {
     "name": "stderr",
     "output_type": "stream",
     "text": [
      "100%|██████████████████████████████████████████████████████████████████████████████████| 10/10 [00:06<00:00,  1.67it/s]\n"
     ]
    }
   ],
   "source": [
    "python_dev_job_id = get_job_id(URL, JOB_TITLE)"
   ]
  },
  {
   "cell_type": "code",
   "execution_count": 6,
   "id": "fa3a0927",
   "metadata": {},
   "outputs": [
    {
     "name": "stdout",
     "output_type": "stream",
     "text": [
      "Количество найденных вакансий: 903\n"
     ]
    }
   ],
   "source": [
    "print('Количество найденных вакансий:', len(python_dev_job_id))"
   ]
  },
  {
   "cell_type": "markdown",
   "id": "7a856c70",
   "metadata": {},
   "source": [
    "> ### Собираем подробные описания вакансий в список по найденным id."
   ]
  },
  {
   "cell_type": "code",
   "execution_count": 7,
   "id": "5fcefb7e",
   "metadata": {},
   "outputs": [
    {
     "name": "stderr",
     "output_type": "stream",
     "text": [
      "100%|████████████████████████████████████████████████████████████████████████████████| 903/903 [03:31<00:00,  4.28it/s]\n"
     ]
    }
   ],
   "source": [
    "list_vacs = []\n",
    "for id in tqdm(python_dev_job_id):\n",
    "    url_2 = f'https://api.hh.ru/vacancies/{id}'\n",
    "    r_2 = requests.get(url_2)\n",
    "    one_vac = r_2.json()\n",
    "    list_vacs.append(one_vac)"
   ]
  },
  {
   "cell_type": "code",
   "execution_count": 8,
   "id": "5cd69f81",
   "metadata": {
    "scrolled": true
   },
   "outputs": [
    {
     "data": {
      "text/html": [
       "<div>\n",
       "<style scoped>\n",
       "    .dataframe tbody tr th:only-of-type {\n",
       "        vertical-align: middle;\n",
       "    }\n",
       "\n",
       "    .dataframe tbody tr th {\n",
       "        vertical-align: top;\n",
       "    }\n",
       "\n",
       "    .dataframe thead th {\n",
       "        text-align: right;\n",
       "    }\n",
       "</style>\n",
       "<table border=\"1\" class=\"dataframe\">\n",
       "  <thead>\n",
       "    <tr style=\"text-align: right;\">\n",
       "      <th></th>\n",
       "      <th>id</th>\n",
       "      <th>premium</th>\n",
       "      <th>billing_type</th>\n",
       "      <th>relations</th>\n",
       "      <th>name</th>\n",
       "      <th>insider_interview</th>\n",
       "      <th>response_letter_required</th>\n",
       "      <th>area</th>\n",
       "      <th>salary</th>\n",
       "      <th>type</th>\n",
       "      <th>...</th>\n",
       "      <th>suitable_resumes_url</th>\n",
       "      <th>apply_alternate_url</th>\n",
       "      <th>has_test</th>\n",
       "      <th>test</th>\n",
       "      <th>alternate_url</th>\n",
       "      <th>working_days</th>\n",
       "      <th>working_time_intervals</th>\n",
       "      <th>working_time_modes</th>\n",
       "      <th>accept_temporary</th>\n",
       "      <th>languages</th>\n",
       "    </tr>\n",
       "  </thead>\n",
       "  <tbody>\n",
       "    <tr>\n",
       "      <th>0</th>\n",
       "      <td>72216524</td>\n",
       "      <td>False</td>\n",
       "      <td>{'id': 'standard_plus', 'name': 'Стандарт плюс'}</td>\n",
       "      <td>[]</td>\n",
       "      <td>Python Backend Developer / WEB - разработчик</td>\n",
       "      <td>None</td>\n",
       "      <td>False</td>\n",
       "      <td>{'id': '1', 'name': 'Москва', 'url': 'https://...</td>\n",
       "      <td>{'from': 220000, 'to': 280000, 'currency': 'RU...</td>\n",
       "      <td>{'id': 'open', 'name': 'Открытая'}</td>\n",
       "      <td>...</td>\n",
       "      <td>None</td>\n",
       "      <td>https://hh.ru/applicant/vacancy_response?vacan...</td>\n",
       "      <td>False</td>\n",
       "      <td>None</td>\n",
       "      <td>https://hh.ru/vacancy/72216524</td>\n",
       "      <td>[]</td>\n",
       "      <td>[]</td>\n",
       "      <td>[]</td>\n",
       "      <td>False</td>\n",
       "      <td>[]</td>\n",
       "    </tr>\n",
       "    <tr>\n",
       "      <th>1</th>\n",
       "      <td>72232112</td>\n",
       "      <td>False</td>\n",
       "      <td>{'id': 'standard_plus', 'name': 'Стандарт плюс'}</td>\n",
       "      <td>[]</td>\n",
       "      <td>Senior Backend developer (Golang) удаленно</td>\n",
       "      <td>None</td>\n",
       "      <td>False</td>\n",
       "      <td>{'id': '1', 'name': 'Москва', 'url': 'https://...</td>\n",
       "      <td>{'from': 400000, 'to': 600000, 'currency': 'RU...</td>\n",
       "      <td>{'id': 'open', 'name': 'Открытая'}</td>\n",
       "      <td>...</td>\n",
       "      <td>None</td>\n",
       "      <td>https://hh.ru/applicant/vacancy_response?vacan...</td>\n",
       "      <td>False</td>\n",
       "      <td>None</td>\n",
       "      <td>https://hh.ru/vacancy/72232112</td>\n",
       "      <td>[]</td>\n",
       "      <td>[]</td>\n",
       "      <td>[]</td>\n",
       "      <td>False</td>\n",
       "      <td>[{'id': 'eng', 'name': 'Английский', 'level': ...</td>\n",
       "    </tr>\n",
       "    <tr>\n",
       "      <th>2</th>\n",
       "      <td>72225947</td>\n",
       "      <td>False</td>\n",
       "      <td>{'id': 'standard_plus', 'name': 'Стандарт плюс'}</td>\n",
       "      <td>[]</td>\n",
       "      <td>Backend Python developer (remote)</td>\n",
       "      <td>None</td>\n",
       "      <td>False</td>\n",
       "      <td>{'id': '2', 'name': 'Санкт-Петербург', 'url': ...</td>\n",
       "      <td>{'from': 180000, 'to': 230000, 'currency': 'RU...</td>\n",
       "      <td>{'id': 'open', 'name': 'Открытая'}</td>\n",
       "      <td>...</td>\n",
       "      <td>None</td>\n",
       "      <td>https://hh.ru/applicant/vacancy_response?vacan...</td>\n",
       "      <td>False</td>\n",
       "      <td>None</td>\n",
       "      <td>https://hh.ru/vacancy/72225947</td>\n",
       "      <td>[]</td>\n",
       "      <td>[]</td>\n",
       "      <td>[]</td>\n",
       "      <td>True</td>\n",
       "      <td>[{'id': 'eng', 'name': 'Английский', 'level': ...</td>\n",
       "    </tr>\n",
       "    <tr>\n",
       "      <th>3</th>\n",
       "      <td>72155975</td>\n",
       "      <td>False</td>\n",
       "      <td>{'id': 'standard_plus', 'name': 'Стандарт плюс'}</td>\n",
       "      <td>[]</td>\n",
       "      <td>Backend разработчик</td>\n",
       "      <td>None</td>\n",
       "      <td>False</td>\n",
       "      <td>{'id': '4', 'name': 'Новосибирск', 'url': 'htt...</td>\n",
       "      <td>{'from': 200000, 'to': 200000, 'currency': 'RU...</td>\n",
       "      <td>{'id': 'open', 'name': 'Открытая'}</td>\n",
       "      <td>...</td>\n",
       "      <td>None</td>\n",
       "      <td>https://hh.ru/applicant/vacancy_response?vacan...</td>\n",
       "      <td>False</td>\n",
       "      <td>None</td>\n",
       "      <td>https://hh.ru/vacancy/72155975</td>\n",
       "      <td>[]</td>\n",
       "      <td>[]</td>\n",
       "      <td>[]</td>\n",
       "      <td>False</td>\n",
       "      <td>[]</td>\n",
       "    </tr>\n",
       "    <tr>\n",
       "      <th>4</th>\n",
       "      <td>72255042</td>\n",
       "      <td>False</td>\n",
       "      <td>{'id': 'standard', 'name': 'Стандарт'}</td>\n",
       "      <td>[]</td>\n",
       "      <td>Разработчик Python (backend)</td>\n",
       "      <td>None</td>\n",
       "      <td>False</td>\n",
       "      <td>{'id': '1', 'name': 'Москва', 'url': 'https://...</td>\n",
       "      <td>{'from': 200000, 'to': 350000, 'currency': 'RU...</td>\n",
       "      <td>{'id': 'open', 'name': 'Открытая'}</td>\n",
       "      <td>...</td>\n",
       "      <td>None</td>\n",
       "      <td>https://hh.ru/applicant/vacancy_response?vacan...</td>\n",
       "      <td>False</td>\n",
       "      <td>None</td>\n",
       "      <td>https://hh.ru/vacancy/72255042</td>\n",
       "      <td>[]</td>\n",
       "      <td>[]</td>\n",
       "      <td>[]</td>\n",
       "      <td>False</td>\n",
       "      <td>[]</td>\n",
       "    </tr>\n",
       "  </tbody>\n",
       "</table>\n",
       "<p>5 rows × 47 columns</p>\n",
       "</div>"
      ],
      "text/plain": [
       "         id  premium                                      billing_type  \\\n",
       "0  72216524    False  {'id': 'standard_plus', 'name': 'Стандарт плюс'}   \n",
       "1  72232112    False  {'id': 'standard_plus', 'name': 'Стандарт плюс'}   \n",
       "2  72225947    False  {'id': 'standard_plus', 'name': 'Стандарт плюс'}   \n",
       "3  72155975    False  {'id': 'standard_plus', 'name': 'Стандарт плюс'}   \n",
       "4  72255042    False            {'id': 'standard', 'name': 'Стандарт'}   \n",
       "\n",
       "  relations                                          name insider_interview  \\\n",
       "0        []  Python Backend Developer / WEB - разработчик              None   \n",
       "1        []    Senior Backend developer (Golang) удаленно              None   \n",
       "2        []             Backend Python developer (remote)              None   \n",
       "3        []                           Backend разработчик              None   \n",
       "4        []                  Разработчик Python (backend)              None   \n",
       "\n",
       "   response_letter_required  \\\n",
       "0                     False   \n",
       "1                     False   \n",
       "2                     False   \n",
       "3                     False   \n",
       "4                     False   \n",
       "\n",
       "                                                area  \\\n",
       "0  {'id': '1', 'name': 'Москва', 'url': 'https://...   \n",
       "1  {'id': '1', 'name': 'Москва', 'url': 'https://...   \n",
       "2  {'id': '2', 'name': 'Санкт-Петербург', 'url': ...   \n",
       "3  {'id': '4', 'name': 'Новосибирск', 'url': 'htt...   \n",
       "4  {'id': '1', 'name': 'Москва', 'url': 'https://...   \n",
       "\n",
       "                                              salary  \\\n",
       "0  {'from': 220000, 'to': 280000, 'currency': 'RU...   \n",
       "1  {'from': 400000, 'to': 600000, 'currency': 'RU...   \n",
       "2  {'from': 180000, 'to': 230000, 'currency': 'RU...   \n",
       "3  {'from': 200000, 'to': 200000, 'currency': 'RU...   \n",
       "4  {'from': 200000, 'to': 350000, 'currency': 'RU...   \n",
       "\n",
       "                                 type  ... suitable_resumes_url  \\\n",
       "0  {'id': 'open', 'name': 'Открытая'}  ...                 None   \n",
       "1  {'id': 'open', 'name': 'Открытая'}  ...                 None   \n",
       "2  {'id': 'open', 'name': 'Открытая'}  ...                 None   \n",
       "3  {'id': 'open', 'name': 'Открытая'}  ...                 None   \n",
       "4  {'id': 'open', 'name': 'Открытая'}  ...                 None   \n",
       "\n",
       "                                 apply_alternate_url has_test  test  \\\n",
       "0  https://hh.ru/applicant/vacancy_response?vacan...    False  None   \n",
       "1  https://hh.ru/applicant/vacancy_response?vacan...    False  None   \n",
       "2  https://hh.ru/applicant/vacancy_response?vacan...    False  None   \n",
       "3  https://hh.ru/applicant/vacancy_response?vacan...    False  None   \n",
       "4  https://hh.ru/applicant/vacancy_response?vacan...    False  None   \n",
       "\n",
       "                    alternate_url working_days working_time_intervals  \\\n",
       "0  https://hh.ru/vacancy/72216524           []                     []   \n",
       "1  https://hh.ru/vacancy/72232112           []                     []   \n",
       "2  https://hh.ru/vacancy/72225947           []                     []   \n",
       "3  https://hh.ru/vacancy/72155975           []                     []   \n",
       "4  https://hh.ru/vacancy/72255042           []                     []   \n",
       "\n",
       "  working_time_modes accept_temporary  \\\n",
       "0                 []            False   \n",
       "1                 []            False   \n",
       "2                 []             True   \n",
       "3                 []            False   \n",
       "4                 []            False   \n",
       "\n",
       "                                           languages  \n",
       "0                                                 []  \n",
       "1  [{'id': 'eng', 'name': 'Английский', 'level': ...  \n",
       "2  [{'id': 'eng', 'name': 'Английский', 'level': ...  \n",
       "3                                                 []  \n",
       "4                                                 []  \n",
       "\n",
       "[5 rows x 47 columns]"
      ]
     },
     "execution_count": 8,
     "metadata": {},
     "output_type": "execute_result"
    }
   ],
   "source": [
    "df = pd.DataFrame(list_vacs)\n",
    "df.head()"
   ]
  },
  {
   "cell_type": "markdown",
   "id": "b3a7765b",
   "metadata": {},
   "source": [
    "> ### Оставляем нужные столбцы"
   ]
  },
  {
   "cell_type": "code",
   "execution_count": 9,
   "id": "08ddf5eb",
   "metadata": {},
   "outputs": [
    {
     "data": {
      "text/plain": [
       "Index(['id', 'premium', 'billing_type', 'relations', 'name',\n",
       "       'insider_interview', 'response_letter_required', 'area', 'salary',\n",
       "       'type', 'address', 'allow_messages', 'experience', 'schedule',\n",
       "       'employment', 'department', 'contacts', 'description',\n",
       "       'branded_description', 'vacancy_constructor_template', 'key_skills',\n",
       "       'accept_handicapped', 'accept_kids', 'archived', 'response_url',\n",
       "       'specializations', 'professional_roles', 'code', 'hidden',\n",
       "       'quick_responses_allowed', 'driver_license_types',\n",
       "       'accept_incomplete_resumes', 'employer', 'published_at', 'created_at',\n",
       "       'initial_created_at', 'negotiations_url', 'suitable_resumes_url',\n",
       "       'apply_alternate_url', 'has_test', 'test', 'alternate_url',\n",
       "       'working_days', 'working_time_intervals', 'working_time_modes',\n",
       "       'accept_temporary', 'languages'],\n",
       "      dtype='object')"
      ]
     },
     "execution_count": 9,
     "metadata": {},
     "output_type": "execute_result"
    }
   ],
   "source": [
    "df.columns"
   ]
  },
  {
   "cell_type": "code",
   "execution_count": 10,
   "id": "f16afa98",
   "metadata": {
    "scrolled": false
   },
   "outputs": [],
   "source": [
    "col_filter = ['id', 'name', 'area', 'salary', 'experience', 'schedule', 'employment', 'key_skills', 'employer', 'languages']"
   ]
  },
  {
   "cell_type": "code",
   "execution_count": 11,
   "id": "d64d4f1c",
   "metadata": {},
   "outputs": [],
   "source": [
    "df_vacancies = df.copy()"
   ]
  },
  {
   "cell_type": "code",
   "execution_count": 12,
   "id": "1a2594a6",
   "metadata": {},
   "outputs": [],
   "source": [
    "df_vacancies = df_vacancies[col_filter]"
   ]
  },
  {
   "cell_type": "markdown",
   "id": "98344b1c",
   "metadata": {},
   "source": [
    "> ### Получаем значения из словарей"
   ]
  },
  {
   "cell_type": "code",
   "execution_count": 13,
   "id": "ec95b8b1",
   "metadata": {},
   "outputs": [],
   "source": [
    "df_vacancies['area'] = df_vacancies.area.apply(lambda x: x.get('name'))\n",
    "df_vacancies['experience'] = df_vacancies.experience.apply(lambda x: x.get('name'))\n",
    "df_vacancies['schedule'] = df_vacancies.schedule.apply(lambda x: x.get('name'))\n",
    "df_vacancies['employment'] = df_vacancies.employment.apply(lambda x: x.get('name'))\n",
    "df_vacancies['key_skills'] = df_vacancies.key_skills.apply(lambda x: [i.get('name') for i in x])"
   ]
  },
  {
   "cell_type": "code",
   "execution_count": 14,
   "id": "60b9976c",
   "metadata": {},
   "outputs": [],
   "source": [
    "df_vacancies['salary_from'] = df_vacancies.salary.apply(lambda x: x.get('from') if x is not None else None)\n",
    "df_vacancies['salary_to'] = df_vacancies.salary.apply(lambda x: x.get('to') if x is not None else None)\n",
    "df_vacancies['salary_currency'] = df_vacancies.salary.apply(lambda x: x.get('currency') if x is not None else None)\n",
    "\n",
    "df_vacancies.drop(['salary'], axis=1, inplace=True)"
   ]
  },
  {
   "cell_type": "code",
   "execution_count": 15,
   "id": "605ff4bd",
   "metadata": {},
   "outputs": [],
   "source": [
    "df_vacancies['employer_id'] = df_vacancies.employer.apply(lambda x: x.get('id'))\n",
    "df_vacancies['employer_name'] = df_vacancies.employer.apply(lambda x: x.get('name'))\n",
    "\n",
    "df_vacancies.drop(['employer'], axis=1, inplace=True)"
   ]
  },
  {
   "cell_type": "code",
   "execution_count": 16,
   "id": "3b080295",
   "metadata": {},
   "outputs": [],
   "source": [
    "def get_lang(lang: list) -> list:\n",
    "    return [[i.get('name'), i.get('level').get('name')] for i in lang]\n",
    "\n",
    "df_vacancies['languages'] = df_vacancies.languages.apply(get_lang)\n",
    "df_vacancies['languages'] = df_vacancies.languages.apply(lambda x: np.nan if not x else x)"
   ]
  },
  {
   "cell_type": "code",
   "execution_count": 17,
   "id": "9cca8d1a",
   "metadata": {
    "scrolled": true
   },
   "outputs": [
    {
     "data": {
      "text/html": [
       "<div>\n",
       "<style scoped>\n",
       "    .dataframe tbody tr th:only-of-type {\n",
       "        vertical-align: middle;\n",
       "    }\n",
       "\n",
       "    .dataframe tbody tr th {\n",
       "        vertical-align: top;\n",
       "    }\n",
       "\n",
       "    .dataframe thead th {\n",
       "        text-align: right;\n",
       "    }\n",
       "</style>\n",
       "<table border=\"1\" class=\"dataframe\">\n",
       "  <thead>\n",
       "    <tr style=\"text-align: right;\">\n",
       "      <th></th>\n",
       "      <th>id</th>\n",
       "      <th>name</th>\n",
       "      <th>area</th>\n",
       "      <th>experience</th>\n",
       "      <th>schedule</th>\n",
       "      <th>employment</th>\n",
       "      <th>key_skills</th>\n",
       "      <th>languages</th>\n",
       "      <th>salary_from</th>\n",
       "      <th>salary_to</th>\n",
       "      <th>salary_currency</th>\n",
       "      <th>employer_id</th>\n",
       "      <th>employer_name</th>\n",
       "    </tr>\n",
       "  </thead>\n",
       "  <tbody>\n",
       "    <tr>\n",
       "      <th>0</th>\n",
       "      <td>72216524</td>\n",
       "      <td>Python Backend Developer / WEB - разработчик</td>\n",
       "      <td>Москва</td>\n",
       "      <td>От 3 до 6 лет</td>\n",
       "      <td>Удаленная работа</td>\n",
       "      <td>Полная занятость</td>\n",
       "      <td>[Python, Linux, Bash, SQL, Git, ООП, FastAPI, ...</td>\n",
       "      <td>NaN</td>\n",
       "      <td>220000.0</td>\n",
       "      <td>280000.0</td>\n",
       "      <td>RUR</td>\n",
       "      <td>1713030</td>\n",
       "      <td>Перфект Системс</td>\n",
       "    </tr>\n",
       "    <tr>\n",
       "      <th>1</th>\n",
       "      <td>72232112</td>\n",
       "      <td>Senior Backend developer (Golang) удаленно</td>\n",
       "      <td>Москва</td>\n",
       "      <td>От 3 до 6 лет</td>\n",
       "      <td>Гибкий график</td>\n",
       "      <td>Полная занятость</td>\n",
       "      <td>[Английский язык, Rust, Лидерство, golang, go]</td>\n",
       "      <td>[[Английский, B2 — Средне-продвинутый]]</td>\n",
       "      <td>400000.0</td>\n",
       "      <td>600000.0</td>\n",
       "      <td>RUR</td>\n",
       "      <td>578702</td>\n",
       "      <td>ArtVolkov.ru</td>\n",
       "    </tr>\n",
       "    <tr>\n",
       "      <th>2</th>\n",
       "      <td>72225947</td>\n",
       "      <td>Backend Python developer (remote)</td>\n",
       "      <td>Санкт-Петербург</td>\n",
       "      <td>От 3 до 6 лет</td>\n",
       "      <td>Удаленная работа</td>\n",
       "      <td>Полная занятость</td>\n",
       "      <td>[Python, Git, SQL, Linux, MySQL, ООП, Telegram...</td>\n",
       "      <td>[[Английский, A1 — Начальный]]</td>\n",
       "      <td>180000.0</td>\n",
       "      <td>230000.0</td>\n",
       "      <td>RUR</td>\n",
       "      <td>1185071</td>\n",
       "      <td>modesco</td>\n",
       "    </tr>\n",
       "    <tr>\n",
       "      <th>3</th>\n",
       "      <td>72155975</td>\n",
       "      <td>Backend разработчик</td>\n",
       "      <td>Новосибирск</td>\n",
       "      <td>Более 6 лет</td>\n",
       "      <td>Полный день</td>\n",
       "      <td>Полная занятость</td>\n",
       "      <td>[Python, PHP, JavaScript]</td>\n",
       "      <td>NaN</td>\n",
       "      <td>200000.0</td>\n",
       "      <td>200000.0</td>\n",
       "      <td>RUR</td>\n",
       "      <td>945093</td>\n",
       "      <td>Инетра</td>\n",
       "    </tr>\n",
       "    <tr>\n",
       "      <th>4</th>\n",
       "      <td>72255042</td>\n",
       "      <td>Разработчик Python (backend)</td>\n",
       "      <td>Москва</td>\n",
       "      <td>От 3 до 6 лет</td>\n",
       "      <td>Удаленная работа</td>\n",
       "      <td>Полная занятость</td>\n",
       "      <td>[1С программирование, Git, Scrum, DevOps, Pyth...</td>\n",
       "      <td>NaN</td>\n",
       "      <td>200000.0</td>\n",
       "      <td>350000.0</td>\n",
       "      <td>RUR</td>\n",
       "      <td>3177</td>\n",
       "      <td>Первый Бит</td>\n",
       "    </tr>\n",
       "  </tbody>\n",
       "</table>\n",
       "</div>"
      ],
      "text/plain": [
       "         id                                          name             area  \\\n",
       "0  72216524  Python Backend Developer / WEB - разработчик           Москва   \n",
       "1  72232112    Senior Backend developer (Golang) удаленно           Москва   \n",
       "2  72225947             Backend Python developer (remote)  Санкт-Петербург   \n",
       "3  72155975                           Backend разработчик      Новосибирск   \n",
       "4  72255042                  Разработчик Python (backend)           Москва   \n",
       "\n",
       "      experience          schedule        employment  \\\n",
       "0  От 3 до 6 лет  Удаленная работа  Полная занятость   \n",
       "1  От 3 до 6 лет     Гибкий график  Полная занятость   \n",
       "2  От 3 до 6 лет  Удаленная работа  Полная занятость   \n",
       "3    Более 6 лет       Полный день  Полная занятость   \n",
       "4  От 3 до 6 лет  Удаленная работа  Полная занятость   \n",
       "\n",
       "                                          key_skills  \\\n",
       "0  [Python, Linux, Bash, SQL, Git, ООП, FastAPI, ...   \n",
       "1     [Английский язык, Rust, Лидерство, golang, go]   \n",
       "2  [Python, Git, SQL, Linux, MySQL, ООП, Telegram...   \n",
       "3                          [Python, PHP, JavaScript]   \n",
       "4  [1С программирование, Git, Scrum, DevOps, Pyth...   \n",
       "\n",
       "                                 languages  salary_from  salary_to  \\\n",
       "0                                      NaN     220000.0   280000.0   \n",
       "1  [[Английский, B2 — Средне-продвинутый]]     400000.0   600000.0   \n",
       "2           [[Английский, A1 — Начальный]]     180000.0   230000.0   \n",
       "3                                      NaN     200000.0   200000.0   \n",
       "4                                      NaN     200000.0   350000.0   \n",
       "\n",
       "  salary_currency employer_id    employer_name  \n",
       "0             RUR     1713030  Перфект Системс  \n",
       "1             RUR      578702     ArtVolkov.ru  \n",
       "2             RUR     1185071          modesco  \n",
       "3             RUR      945093           Инетра  \n",
       "4             RUR        3177       Первый Бит  "
      ]
     },
     "execution_count": 17,
     "metadata": {},
     "output_type": "execute_result"
    }
   ],
   "source": [
    "df_vacancies.head()"
   ]
  },
  {
   "cell_type": "code",
   "execution_count": 18,
   "id": "e4ec0d73",
   "metadata": {
    "scrolled": false
   },
   "outputs": [
    {
     "name": "stdout",
     "output_type": "stream",
     "text": [
      "<class 'pandas.core.frame.DataFrame'>\n",
      "RangeIndex: 903 entries, 0 to 902\n",
      "Data columns (total 13 columns):\n",
      " #   Column           Non-Null Count  Dtype  \n",
      "---  ------           --------------  -----  \n",
      " 0   id               903 non-null    object \n",
      " 1   name             903 non-null    object \n",
      " 2   area             903 non-null    object \n",
      " 3   experience       903 non-null    object \n",
      " 4   schedule         903 non-null    object \n",
      " 5   employment       903 non-null    object \n",
      " 6   key_skills       903 non-null    object \n",
      " 7   languages        154 non-null    object \n",
      " 8   salary_from      264 non-null    float64\n",
      " 9   salary_to        210 non-null    float64\n",
      " 10  salary_currency  303 non-null    object \n",
      " 11  employer_id      903 non-null    object \n",
      " 12  employer_name    903 non-null    object \n",
      "dtypes: float64(2), object(11)\n",
      "memory usage: 91.8+ KB\n"
     ]
    }
   ],
   "source": [
    "df_vacancies.info()"
   ]
  },
  {
   "cell_type": "markdown",
   "id": "2995204f",
   "metadata": {},
   "source": [
    "> #### Количество вакансий по городам"
   ]
  },
  {
   "cell_type": "code",
   "execution_count": 73,
   "id": "98ce6415",
   "metadata": {},
   "outputs": [
    {
     "data": {
      "text/plain": [
       "['Москва',\n",
       " 'Санкт-Петербург',\n",
       " 'Новосибирск',\n",
       " 'Алматы',\n",
       " 'Екатеринбург',\n",
       " 'Казань',\n",
       " 'Тбилиси',\n",
       " 'Нижний Новгород',\n",
       " 'Астана',\n",
       " 'Ростов-на-Дону']"
      ]
     },
     "execution_count": 73,
     "metadata": {},
     "output_type": "execute_result"
    }
   ],
   "source": [
    "top_ten_area_list = list(df_vacancies.groupby(['area']).size().sort_values(ascending=False).index[:10])\n",
    "top_ten_area_list"
   ]
  },
  {
   "cell_type": "code",
   "execution_count": 74,
   "id": "453e174c",
   "metadata": {},
   "outputs": [],
   "source": [
    "df_areas = df_vacancies['area'].copy()\n",
    "df_areas = pd.DataFrame(df_areas)"
   ]
  },
  {
   "cell_type": "code",
   "execution_count": 75,
   "id": "1f9157a8",
   "metadata": {},
   "outputs": [
    {
     "data": {
      "text/html": [
       "<div>\n",
       "<style scoped>\n",
       "    .dataframe tbody tr th:only-of-type {\n",
       "        vertical-align: middle;\n",
       "    }\n",
       "\n",
       "    .dataframe tbody tr th {\n",
       "        vertical-align: top;\n",
       "    }\n",
       "\n",
       "    .dataframe thead th {\n",
       "        text-align: right;\n",
       "    }\n",
       "</style>\n",
       "<table border=\"1\" class=\"dataframe\">\n",
       "  <thead>\n",
       "    <tr style=\"text-align: right;\">\n",
       "      <th></th>\n",
       "      <th>area</th>\n",
       "    </tr>\n",
       "  </thead>\n",
       "  <tbody>\n",
       "    <tr>\n",
       "      <th>0</th>\n",
       "      <td>Москва</td>\n",
       "    </tr>\n",
       "    <tr>\n",
       "      <th>1</th>\n",
       "      <td>Москва</td>\n",
       "    </tr>\n",
       "    <tr>\n",
       "      <th>2</th>\n",
       "      <td>Санкт-Петербург</td>\n",
       "    </tr>\n",
       "    <tr>\n",
       "      <th>3</th>\n",
       "      <td>Новосибирск</td>\n",
       "    </tr>\n",
       "    <tr>\n",
       "      <th>4</th>\n",
       "      <td>Москва</td>\n",
       "    </tr>\n",
       "    <tr>\n",
       "      <th>...</th>\n",
       "      <td>...</td>\n",
       "    </tr>\n",
       "    <tr>\n",
       "      <th>898</th>\n",
       "      <td>Новосибирск</td>\n",
       "    </tr>\n",
       "    <tr>\n",
       "      <th>899</th>\n",
       "      <td>Москва</td>\n",
       "    </tr>\n",
       "    <tr>\n",
       "      <th>900</th>\n",
       "      <td>Новосибирск</td>\n",
       "    </tr>\n",
       "    <tr>\n",
       "      <th>901</th>\n",
       "      <td>Екатеринбург</td>\n",
       "    </tr>\n",
       "    <tr>\n",
       "      <th>902</th>\n",
       "      <td>Санкт-Петербург</td>\n",
       "    </tr>\n",
       "  </tbody>\n",
       "</table>\n",
       "<p>700 rows × 1 columns</p>\n",
       "</div>"
      ],
      "text/plain": [
       "                area\n",
       "0             Москва\n",
       "1             Москва\n",
       "2    Санкт-Петербург\n",
       "3        Новосибирск\n",
       "4             Москва\n",
       "..               ...\n",
       "898      Новосибирск\n",
       "899           Москва\n",
       "900      Новосибирск\n",
       "901     Екатеринбург\n",
       "902  Санкт-Петербург\n",
       "\n",
       "[700 rows x 1 columns]"
      ]
     },
     "execution_count": 75,
     "metadata": {},
     "output_type": "execute_result"
    }
   ],
   "source": [
    "df_areas.loc[df_areas.area.isin(top_ten_area_list)]"
   ]
  },
  {
   "cell_type": "code",
   "execution_count": 76,
   "id": "4ce1a0f3",
   "metadata": {},
   "outputs": [],
   "source": [
    "df_areas['area'] = pd.Categorical(df_areas['area'], top_ten_area_list)"
   ]
  },
  {
   "cell_type": "code",
   "execution_count": 77,
   "id": "1d8aa87f",
   "metadata": {},
   "outputs": [],
   "source": [
    "sns.set(rc={'figure.figsize':(15, 12)})"
   ]
  },
  {
   "cell_type": "code",
   "execution_count": 78,
   "id": "eefdbf7a",
   "metadata": {},
   "outputs": [
    {
     "data": {
      "text/plain": [
       "<AxesSubplot:xlabel='area', ylabel='Count'>"
      ]
     },
     "execution_count": 78,
     "metadata": {},
     "output_type": "execute_result"
    },
    {
     "data": {
      "image/png": "[encoded data removed]",
      "text/plain": [
       "<Figure size 1080x864 with 1 Axes>"
      ]
     },
     "metadata": {},
     "output_type": "display_data"
    }
   ],
   "source": [
    "sns.set_style(\"whitegrid\")\n",
    "sns.histplot(data=df_areas.loc[df_areas.area.isin(top_ten_area_list)],\n",
    "            x='area')"
   ]
  },
  {
   "cell_type": "markdown",
   "id": "0feaac43",
   "metadata": {},
   "source": [
    "> #### Количество вакансий по компаниям"
   ]
  },
  {
   "cell_type": "code",
   "execution_count": 53,
   "id": "405cd8b1",
   "metadata": {},
   "outputs": [],
   "source": [
    "df_employers = df_vacancies['employer_name'].copy()\n",
    "df_employers = pd.DataFrame(df_employers)"
   ]
  },
  {
   "cell_type": "code",
   "execution_count": 54,
   "id": "522b60d5",
   "metadata": {
    "scrolled": false
   },
   "outputs": [
    {
     "data": {
      "text/plain": [
       "['СБЕР',\n",
       " 'Яндекс',\n",
       " 'Контур',\n",
       " '2ГИС',\n",
       " 'МТС',\n",
       " 'Ozon',\n",
       " 'АйСи Сервис',\n",
       " 'Cloud',\n",
       " 'Онлайн-школа Тетрика',\n",
       " 'Selectel']"
      ]
     },
     "execution_count": 54,
     "metadata": {},
     "output_type": "execute_result"
    }
   ],
   "source": [
    "top_ten_employer_list = list(df_vacancies.groupby(['employer_name']).size().sort_values(ascending=False).index[:10])\n",
    "top_ten_employer_list"
   ]
  },
  {
   "cell_type": "code",
   "execution_count": 65,
   "id": "33c8bbb9",
   "metadata": {},
   "outputs": [],
   "source": [
    "df_employers['employer_name'] = pd.Categorical(df_employers['employer_name'], top_ten_employer_list)"
   ]
  },
  {
   "cell_type": "code",
   "execution_count": 66,
   "id": "86053ec7",
   "metadata": {},
   "outputs": [
    {
     "data": {
      "text/plain": [
       "<AxesSubplot:xlabel='employer_name', ylabel='Count'>"
      ]
     },
     "execution_count": 66,
     "metadata": {},
     "output_type": "execute_result"
    },
    {
     "data": {
      "image/png": "[encoded data removed]",
      "text/plain": [
       "<Figure size 1080x864 with 1 Axes>"
      ]
     },
     "metadata": {},
     "output_type": "display_data"
    }
   ],
   "source": [
    "sns.set_style(\"whitegrid\")\n",
    "sns.histplot(data=df_employers.loc[df_employers.employer_name.isin(top_ten_employer_list)],\n",
    "             x='employer_name')"
   ]
  }
 ],
 "metadata": {
  "kernelspec": {
   "display_name": "Python 3",
   "language": "python",
   "name": "python3"
  },
  "language_info": {
   "codemirror_mode": {
    "name": "ipython",
    "version": 3
   },
   "file_extension": ".py",
   "mimetype": "text/x-python",
   "name": "python",
   "nbconvert_exporter": "python",
   "pygments_lexer": "ipython3",
   "version": "3.8.8"
  }
 },
 "nbformat": 4,
 "nbformat_minor": 5
}
