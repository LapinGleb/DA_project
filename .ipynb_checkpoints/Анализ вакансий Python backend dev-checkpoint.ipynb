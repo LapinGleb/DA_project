{
 "cells": [
  {
   "cell_type": "code",
   "execution_count": 209,
   "id": "9cb7ec15",
   "metadata": {},
   "outputs": [],
   "source": [
    "import requests\n",
    "import pandas as pd\n",
    "from tqdm import tqdm"
   ]
  },
  {
   "cell_type": "code",
   "execution_count": 2,
   "id": "37eb68cd",
   "metadata": {},
   "outputs": [],
   "source": [
    "USER_AGENT = 'Mozilla/5.0 (Windows NT 10.0; Win64; x64) AppleWebKit/537.36 (KHTML, like Gecko) ' \\\n",
    "             'Chrome/104.0.5112.124 YaBrowser/22.9.4.863 Yowser/2.5 Safari/537.36'"
   ]
  },
  {
   "cell_type": "markdown",
   "id": "eb653ff0",
   "metadata": {},
   "source": [
    "### Получаем города и населенные пункты "
   ]
  },
  {
   "cell_type": "code",
   "execution_count": 74,
   "id": "08c6f529",
   "metadata": {},
   "outputs": [],
   "source": [
    "request_areas = 'https://api.hh.ru/areas'"
   ]
  },
  {
   "cell_type": "code",
   "execution_count": 75,
   "id": "974be99e",
   "metadata": {},
   "outputs": [],
   "source": [
    "def get_areas(request: str) -> list:\n",
    "    '''\n",
    "    Функция собирает список населенных пунктов с сайта hh.ru\n",
    "    '''\n",
    "    req = requests.get(request)   \n",
    "    countries = req.json()\n",
    "    areas = []\n",
    "    for country in countries:\n",
    "        for i in range(len(country['areas'])):\n",
    "            if len(country['areas'][i]['areas']) != 0:                      # Если у зоны есть внутренние зоны\n",
    "                for j in range(len(country['areas'][i]['areas'])):\n",
    "                    areas.append([country['id'], \n",
    "                                  country['name'], \n",
    "                                  country['areas'][i]['areas'][j]['id'],\n",
    "                                  country['areas'][i]['areas'][j]['name']])\n",
    "            else:                                                                # Если у зоны нет внутренних зон\n",
    "                areas.append([country['id'], \n",
    "                              country['name'], \n",
    "                              country['areas'][i]['id'], \n",
    "                              country['areas'][i]['name']])\n",
    "    return areas"
   ]
  },
  {
   "cell_type": "code",
   "execution_count": 76,
   "id": "174d8312",
   "metadata": {},
   "outputs": [],
   "source": [
    "areas = get_areas(request_areas)"
   ]
  },
  {
   "cell_type": "code",
   "execution_count": 77,
   "id": "1436ab54",
   "metadata": {},
   "outputs": [],
   "source": [
    "def areas_to_df(areas: list) -> pd.DataFrame:\n",
    "    '''\n",
    "    Функция преобразует список с регионами в датафрейм\n",
    "    '''\n",
    "    columns = ['country_id', 'country_name', 'place_id', 'place_name']\n",
    "    df_areas = pd.DataFrame(areas)\n",
    "    df_areas.columns = columns\n",
    "    df_areas = df_areas.drop(df_areas[df_areas.country_id == '1001'].index)\n",
    "    return df_areas"
   ]
  },
  {
   "cell_type": "code",
   "execution_count": 78,
   "id": "6e373808",
   "metadata": {},
   "outputs": [],
   "source": [
    "df_areas = areas_to_df(areas)"
   ]
  },
  {
   "cell_type": "code",
   "execution_count": 117,
   "id": "2cfd064e",
   "metadata": {},
   "outputs": [
    {
     "data": {
      "text/html": [
       "<div>\n",
       "<style scoped>\n",
       "    .dataframe tbody tr th:only-of-type {\n",
       "        vertical-align: middle;\n",
       "    }\n",
       "\n",
       "    .dataframe tbody tr th {\n",
       "        vertical-align: top;\n",
       "    }\n",
       "\n",
       "    .dataframe thead th {\n",
       "        text-align: right;\n",
       "    }\n",
       "</style>\n",
       "<table border=\"1\" class=\"dataframe\">\n",
       "  <thead>\n",
       "    <tr style=\"text-align: right;\">\n",
       "      <th></th>\n",
       "      <th>country_id</th>\n",
       "      <th>country_name</th>\n",
       "      <th>place_id</th>\n",
       "      <th>place_name</th>\n",
       "    </tr>\n",
       "  </thead>\n",
       "  <tbody>\n",
       "    <tr>\n",
       "      <th>1895</th>\n",
       "      <td>113</td>\n",
       "      <td>Россия</td>\n",
       "      <td>2</td>\n",
       "      <td>Санкт-Петербург</td>\n",
       "    </tr>\n",
       "  </tbody>\n",
       "</table>\n",
       "</div>"
      ],
      "text/plain": [
       "     country_id country_name place_id       place_name\n",
       "1895        113       Россия        2  Санкт-Петербург"
      ]
     },
     "execution_count": 117,
     "metadata": {},
     "output_type": "execute_result"
    }
   ],
   "source": [
    "df_areas[df_areas.place_id == '2']"
   ]
  },
  {
   "cell_type": "code",
   "execution_count": null,
   "id": "a04d06c8",
   "metadata": {},
   "outputs": [],
   "source": []
  },
  {
   "cell_type": "code",
   "execution_count": null,
   "id": "bab18db2",
   "metadata": {},
   "outputs": [],
   "source": []
  },
  {
   "cell_type": "markdown",
   "id": "8e6cd3b8",
   "metadata": {},
   "source": [
    "# Собираем вакансии Python Backend dev"
   ]
  },
  {
   "cell_type": "code",
   "execution_count": 219,
   "id": "19dc4fa2",
   "metadata": {},
   "outputs": [],
   "source": [
    "JOB_TITLE = 'python backend разработчик'\n",
    "URL = 'https://api.hh.ru/vacancies'"
   ]
  },
  {
   "cell_type": "code",
   "execution_count": 220,
   "id": "9e20991f",
   "metadata": {},
   "outputs": [],
   "source": [
    "def number_of_pages(url: str, job_title: str, per_page=100) -> int:\n",
    "    \n",
    "    param = {'text': job_title, 'per_page': per_page}\n",
    "    req = requests.get(url, params=param)\n",
    "    return req.json()['pages']"
   ]
  },
  {
   "cell_type": "code",
   "execution_count": 222,
   "id": "c84fe1f6",
   "metadata": {},
   "outputs": [],
   "source": [
    "def get_job_id(url: str, job_title: str, per_page=100) -> list:\n",
    "    job_id = []\n",
    "    pages = number_of_pages(url, job_title, per_page)\n",
    "    for page in tqdm(range(pages)):\n",
    "        param = {'text': job_title, 'per_page': per_page, 'page': page}\n",
    "        req = requests.get(url, params=param)\n",
    "        vacancies = req.json()\n",
    "        for vac in vacancies.get('items'):\n",
    "            job_id.append(vac.get('id'))\n",
    "    return job_id"
   ]
  },
  {
   "cell_type": "code",
   "execution_count": 217,
   "id": "e35010ce",
   "metadata": {},
   "outputs": [
    {
     "name": "stderr",
     "output_type": "stream",
     "text": [
      "100%|████████████████████████████████████████████████████████████████████████████████████| 9/9 [00:04<00:00,  1.80it/s]\n"
     ]
    }
   ],
   "source": [
    "python_dev_job_id = get_job_id(URL, JOB_TITLE)"
   ]
  },
  {
   "cell_type": "code",
   "execution_count": 218,
   "id": "fa3a0927",
   "metadata": {},
   "outputs": [
    {
     "data": {
      "text/plain": [
       "'71675473'"
      ]
     },
     "execution_count": 218,
     "metadata": {},
     "output_type": "execute_result"
    }
   ],
   "source": [
    "all_id[0]"
   ]
  },
  {
   "cell_type": "code",
   "execution_count": null,
   "id": "5fcefb7e",
   "metadata": {},
   "outputs": [],
   "source": []
  },
  {
   "cell_type": "code",
   "execution_count": null,
   "id": "5cd69f81",
   "metadata": {},
   "outputs": [],
   "source": []
  },
  {
   "cell_type": "code",
   "execution_count": null,
   "id": "08ddf5eb",
   "metadata": {},
   "outputs": [],
   "source": []
  },
  {
   "cell_type": "code",
   "execution_count": null,
   "id": "f16afa98",
   "metadata": {},
   "outputs": [],
   "source": []
  },
  {
   "cell_type": "code",
   "execution_count": 224,
   "id": "bf481a79",
   "metadata": {},
   "outputs": [],
   "source": [
    "url_2 = f'https://api.hh.ru/vacancies/{all_id[0]}'\n",
    "r_2 = requests.get(url_2)\n",
    "one_vac = r_2.json()"
   ]
  },
  {
   "cell_type": "code",
   "execution_count": 225,
   "id": "805aaa2d",
   "metadata": {},
   "outputs": [
    {
     "data": {
      "text/plain": [
       "{'id': '71675473',\n",
       " 'premium': False,\n",
       " 'billing_type': {'id': 'standard_plus', 'name': 'Стандарт плюс'},\n",
       " 'relations': [],\n",
       " 'name': 'Разработчик Python',\n",
       " 'insider_interview': None,\n",
       " 'response_letter_required': False,\n",
       " 'area': {'id': '1', 'name': 'Москва', 'url': 'https://api.hh.ru/areas/1'},\n",
       " 'salary': {'from': 120000, 'to': 200000, 'currency': 'RUR', 'gross': False},\n",
       " 'type': {'id': 'open', 'name': 'Открытая'},\n",
       " 'address': None,\n",
       " 'allow_messages': True,\n",
       " 'experience': {'id': 'between3And6', 'name': 'От 3 до 6 лет'},\n",
       " 'schedule': {'id': 'remote', 'name': 'Удаленная работа'},\n",
       " 'employment': {'id': 'full', 'name': 'Полная занятость'},\n",
       " 'department': None,\n",
       " 'contacts': None,\n",
       " 'description': '<p><strong>Software Developer Python / Django</strong></p> <p>В Inspector Cloud мы создаем сервисы по распознаванию изображений для розничной торговли. Наши клиенты – ведущие производители товаров повседневного спроса в России, Латинской Америке, Юго-Восточной Азии, Ближнем Востоке.</p> <p>На этой должности вы будете работать в команде бекенда над развитием ключевых SaaS сервисов нашей компании. В ваши обязанности будет входить самостоятельное проектирование и реализация модулей бекенда, поддержка и развитие существующего кода, сотрудничество с командами машинного обучения, фронтенда и мобильной разработки в работе над продуктом.</p> <p>Стек технологий бекенда построен на Python 3,Django, Django Rest Framework, Pandas, TensorFlow и PyTorch. Основная база данных – PostgreSQL, также используем MongoDB и Google FireStore. Развитая инфраструктура DevOps: СI/CD, Docker, Kubernetes, мониторинг. Фронтенд на React, нативные мобильные приложения Android и iOS.</p> <p>Для разработки используем Gitlab и Slack, приветствуем частично или полностью удаленную работу.</p> <p><strong>Почему надо работать у нас:</strong></p> <ul> <li> <p>Интересные и сложные задачи на переднем крае технологий, возможности для профессионального роста</p> </li> <li> <p>Возможна полностью удаленная работа, налаженные процессы</p> </li> <li> <p>Сильная команда бекенда машинного обучения, мобильной разработки, фронтенда, DevOps</p> </li> <li> <p>Крутые клиенты из топ-10 мировых производителей товаров повседневного спроса</p> </li> <li> <p>Адекватное и открытое руководство</p> </li> <li> <p>Аккредитованная IT компания</p> </li> </ul> <p><strong>Обязанности:</strong></p> <ul> <li> <p>Поддержка и развитие существующего кода бекендов различных сервисов компании</p> </li> <li> <p>Проектирование и разработка новых модулей ПО</p> </li> <li> <p>Сотрудничество с командами DevOps, компьютерного зрения, фронтенда, мобильной разработки, клиентской поддержки</p> </li> </ul> <p><strong>Требования:</strong></p> <ul> <li>Высшее образование</li> <li> <p>Python, Django, SQL, REST APIs</p> </li> <li> <p>Опыт проектирования ПО, сложившееся понимание качества ПО</p> </li> <li> <p>Опыт разработки SaaS сервисов -- плюс</p> </li> </ul> <strong>Условия:</strong> <ul> <li> <p>Вилка: 120-200 тыс. руб. на руки</p> </li> <li> <p>Полная занятость, полный рабочий день</p> </li> <li> <p>Возможность полностью удаленной работы, налаженные процессы</p> </li> <li> <p>Трудоустройство ТК РФ</p> </li> </ul>',\n",
       " 'branded_description': None,\n",
       " 'vacancy_constructor_template': None,\n",
       " 'key_skills': [{'name': 'Python'},\n",
       "  {'name': 'Django Framework'},\n",
       "  {'name': 'Pandas'}],\n",
       " 'accept_handicapped': False,\n",
       " 'accept_kids': False,\n",
       " 'archived': False,\n",
       " 'response_url': None,\n",
       " 'specializations': [{'id': '1.221',\n",
       "   'name': 'Программирование, Разработка',\n",
       "   'profarea_id': '1',\n",
       "   'profarea_name': 'Информационные технологии, интернет, телеком'},\n",
       "  {'id': '1.50',\n",
       "   'name': 'Системы управления предприятием (ERP)',\n",
       "   'profarea_id': '1',\n",
       "   'profarea_name': 'Информационные технологии, интернет, телеком'},\n",
       "  {'id': '1.82',\n",
       "   'name': 'Инженер',\n",
       "   'profarea_id': '1',\n",
       "   'profarea_name': 'Информационные технологии, интернет, телеком'},\n",
       "  {'id': '1.9',\n",
       "   'name': 'Web инженер',\n",
       "   'profarea_id': '1',\n",
       "   'profarea_name': 'Информационные технологии, интернет, телеком'},\n",
       "  {'id': '1.10',\n",
       "   'name': 'Web мастер',\n",
       "   'profarea_id': '1',\n",
       "   'profarea_name': 'Информационные технологии, интернет, телеком'}],\n",
       " 'professional_roles': [{'id': '96', 'name': 'Программист, разработчик'}],\n",
       " 'code': None,\n",
       " 'hidden': False,\n",
       " 'quick_responses_allowed': False,\n",
       " 'driver_license_types': [],\n",
       " 'accept_incomplete_resumes': False,\n",
       " 'employer': {'id': '2544353',\n",
       "  'name': 'Инспектор Клауд',\n",
       "  'url': 'https://api.hh.ru/employers/2544353',\n",
       "  'alternate_url': 'https://hh.ru/employer/2544353',\n",
       "  'logo_urls': {'original': 'https://hhcdn.ru/employer-logo-original/876958.png',\n",
       "   '240': 'https://hhcdn.ru/employer-logo/3948708.png',\n",
       "   '90': 'https://hhcdn.ru/employer-logo/3948707.png'},\n",
       "  'vacancies_url': 'https://api.hh.ru/vacancies?employer_id=2544353',\n",
       "  'trusted': True},\n",
       " 'published_at': '2022-11-05T16:24:54+0300',\n",
       " 'created_at': '2022-11-05T16:24:54+0300',\n",
       " 'initial_created_at': '2022-10-27T16:24:54+0300',\n",
       " 'negotiations_url': None,\n",
       " 'suitable_resumes_url': None,\n",
       " 'apply_alternate_url': 'https://hh.ru/applicant/vacancy_response?vacancyId=71675473',\n",
       " 'has_test': False,\n",
       " 'test': None,\n",
       " 'alternate_url': 'https://hh.ru/vacancy/71675473',\n",
       " 'working_days': [],\n",
       " 'working_time_intervals': [],\n",
       " 'working_time_modes': [],\n",
       " 'accept_temporary': False,\n",
       " 'languages': []}"
      ]
     },
     "execution_count": 225,
     "metadata": {},
     "output_type": "execute_result"
    }
   ],
   "source": [
    "one_vac.get()"
   ]
  }
 ],
 "metadata": {
  "kernelspec": {
   "display_name": "Python 3",
   "language": "python",
   "name": "python3"
  },
  "language_info": {
   "codemirror_mode": {
    "name": "ipython",
    "version": 3
   },
   "file_extension": ".py",
   "mimetype": "text/x-python",
   "name": "python",
   "nbconvert_exporter": "python",
   "pygments_lexer": "ipython3",
   "version": "3.8.8"
  }
 },
 "nbformat": 4,
 "nbformat_minor": 5
}
