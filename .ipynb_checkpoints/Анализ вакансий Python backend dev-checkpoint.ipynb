{
 "cells": [
  {
   "cell_type": "code",
   "execution_count": 108,
   "id": "9cb7ec15",
   "metadata": {},
   "outputs": [],
   "source": [
    "import requests\n",
    "import pandas as pd\n",
    "from tqdm import tqdm"
   ]
  },
  {
   "cell_type": "markdown",
   "id": "83abb62d",
   "metadata": {},
   "source": [
    "# Сбор данных с сайта hh.ru"
   ]
  },
  {
   "cell_type": "code",
   "execution_count": 109,
   "id": "37eb68cd",
   "metadata": {},
   "outputs": [],
   "source": [
    "USER_AGENT = 'Mozilla/5.0 (Windows NT 10.0; Win64; x64) AppleWebKit/537.36 (KHTML, like Gecko) ' \\\n",
    "             'Chrome/104.0.5112.124 YaBrowser/22.9.4.863 Yowser/2.5 Safari/537.36'\n",
    "\n",
    "JOB_TITLE = 'python backend разработчик'\n",
    "URL = 'https://api.hh.ru/vacancies'"
   ]
  },
  {
   "cell_type": "markdown",
   "id": "8e6cd3b8",
   "metadata": {},
   "source": [
    "> ### Собираем id вакансий Python Backend dev"
   ]
  },
  {
   "cell_type": "code",
   "execution_count": 110,
   "id": "9e20991f",
   "metadata": {},
   "outputs": [],
   "source": [
    "def number_of_pages(url: str, job_title: str, per_page=100) -> int:\n",
    "    '''\n",
    "    Получаем количество страниц с вакансиями\n",
    "    '''\n",
    "    param = {'text': job_title, 'per_page': per_page}\n",
    "    req = requests.get(url, params=param)\n",
    "    return req.json()['pages']"
   ]
  },
  {
   "cell_type": "code",
   "execution_count": 111,
   "id": "c84fe1f6",
   "metadata": {},
   "outputs": [],
   "source": [
    "def get_job_id(url: str, job_title: str, per_page=100) -> list:\n",
    "    '''\n",
    "    Функция возвращает список id вакансий с названием job_title\n",
    "    '''\n",
    "    job_id = []\n",
    "    pages = number_of_pages(url, job_title, per_page)\n",
    "    for page in tqdm(range(pages)):\n",
    "        param = {'text': job_title, 'per_page': per_page, 'page': page}\n",
    "        req = requests.get(url, params=param)\n",
    "        vacancies = req.json()\n",
    "        for vac in vacancies.get('items'):\n",
    "            job_id.append(vac.get('id'))\n",
    "    return job_id"
   ]
  },
  {
   "cell_type": "code",
   "execution_count": 112,
   "id": "e35010ce",
   "metadata": {},
   "outputs": [
    {
     "name": "stderr",
     "output_type": "stream",
     "text": [
      "100%|██████████████████████████████████████████████████████████████████████████████████| 10/10 [00:05<00:00,  1.91it/s]\n"
     ]
    }
   ],
   "source": [
    "python_dev_job_id = get_job_id(URL, JOB_TITLE)"
   ]
  },
  {
   "cell_type": "code",
   "execution_count": 113,
   "id": "fa3a0927",
   "metadata": {},
   "outputs": [
    {
     "name": "stdout",
     "output_type": "stream",
     "text": [
      "Количество найденных вакансий: 910\n"
     ]
    }
   ],
   "source": [
    "print('Количество найденных вакансий:', len(python_dev_job_id))"
   ]
  },
  {
   "cell_type": "markdown",
   "id": "b2d46213",
   "metadata": {},
   "source": [
    "> ### Собираем подробные описания вакансий в список по найденным id."
   ]
  },
  {
   "cell_type": "code",
   "execution_count": 114,
   "id": "5fcefb7e",
   "metadata": {},
   "outputs": [
    {
     "name": "stderr",
     "output_type": "stream",
     "text": [
      "100%|████████████████████████████████████████████████████████████████████████████████| 910/910 [02:47<00:00,  5.43it/s]\n"
     ]
    }
   ],
   "source": [
    "list_vacs = []\n",
    "for id in tqdm(python_dev_job_id):\n",
    "    url_2 = f'https://api.hh.ru/vacancies/{id}'\n",
    "    r_2 = requests.get(url_2)\n",
    "    one_vac = r_2.json()\n",
    "    list_vacs.append(one_vac)"
   ]
  },
  {
   "cell_type": "code",
   "execution_count": 115,
   "id": "5cd69f81",
   "metadata": {
    "scrolled": true
   },
   "outputs": [
    {
     "data": {
      "text/html": [
       "<div>\n",
       "<style scoped>\n",
       "    .dataframe tbody tr th:only-of-type {\n",
       "        vertical-align: middle;\n",
       "    }\n",
       "\n",
       "    .dataframe tbody tr th {\n",
       "        vertical-align: top;\n",
       "    }\n",
       "\n",
       "    .dataframe thead th {\n",
       "        text-align: right;\n",
       "    }\n",
       "</style>\n",
       "<table border=\"1\" class=\"dataframe\">\n",
       "  <thead>\n",
       "    <tr style=\"text-align: right;\">\n",
       "      <th></th>\n",
       "      <th>id</th>\n",
       "      <th>premium</th>\n",
       "      <th>billing_type</th>\n",
       "      <th>relations</th>\n",
       "      <th>name</th>\n",
       "      <th>insider_interview</th>\n",
       "      <th>response_letter_required</th>\n",
       "      <th>area</th>\n",
       "      <th>salary</th>\n",
       "      <th>type</th>\n",
       "      <th>...</th>\n",
       "      <th>suitable_resumes_url</th>\n",
       "      <th>apply_alternate_url</th>\n",
       "      <th>has_test</th>\n",
       "      <th>test</th>\n",
       "      <th>alternate_url</th>\n",
       "      <th>working_days</th>\n",
       "      <th>working_time_intervals</th>\n",
       "      <th>working_time_modes</th>\n",
       "      <th>accept_temporary</th>\n",
       "      <th>languages</th>\n",
       "    </tr>\n",
       "  </thead>\n",
       "  <tbody>\n",
       "    <tr>\n",
       "      <th>0</th>\n",
       "      <td>71240928</td>\n",
       "      <td>False</td>\n",
       "      <td>{'id': 'standard_plus', 'name': 'Стандарт плюс'}</td>\n",
       "      <td>[]</td>\n",
       "      <td>Junior Backend разработчик (Python)</td>\n",
       "      <td>None</td>\n",
       "      <td>False</td>\n",
       "      <td>{'id': '1', 'name': 'Москва', 'url': 'https://...</td>\n",
       "      <td>{'from': None, 'to': 80000, 'currency': 'RUR',...</td>\n",
       "      <td>{'id': 'open', 'name': 'Открытая'}</td>\n",
       "      <td>...</td>\n",
       "      <td>None</td>\n",
       "      <td>https://hh.ru/applicant/vacancy_response?vacan...</td>\n",
       "      <td>False</td>\n",
       "      <td>None</td>\n",
       "      <td>https://hh.ru/vacancy/71240928</td>\n",
       "      <td>[]</td>\n",
       "      <td>[]</td>\n",
       "      <td>[]</td>\n",
       "      <td>False</td>\n",
       "      <td>[]</td>\n",
       "    </tr>\n",
       "    <tr>\n",
       "      <th>1</th>\n",
       "      <td>72047249</td>\n",
       "      <td>True</td>\n",
       "      <td>{'id': 'premium', 'name': 'Премиум'}</td>\n",
       "      <td>[]</td>\n",
       "      <td>Backend разработчик Python (Middle/Senior)</td>\n",
       "      <td>None</td>\n",
       "      <td>False</td>\n",
       "      <td>{'id': '2759', 'name': 'Ташкент', 'url': 'http...</td>\n",
       "      <td>{'from': 1500, 'to': None, 'currency': 'USD', ...</td>\n",
       "      <td>{'id': 'open', 'name': 'Открытая'}</td>\n",
       "      <td>...</td>\n",
       "      <td>None</td>\n",
       "      <td>https://hh.ru/applicant/vacancy_response?vacan...</td>\n",
       "      <td>False</td>\n",
       "      <td>None</td>\n",
       "      <td>https://hh.ru/vacancy/72047249</td>\n",
       "      <td>[]</td>\n",
       "      <td>[]</td>\n",
       "      <td>[]</td>\n",
       "      <td>False</td>\n",
       "      <td>[{'id': 'rus', 'name': 'Русский', 'level': {'i...</td>\n",
       "    </tr>\n",
       "    <tr>\n",
       "      <th>2</th>\n",
       "      <td>71675473</td>\n",
       "      <td>False</td>\n",
       "      <td>{'id': 'standard_plus', 'name': 'Стандарт плюс'}</td>\n",
       "      <td>[]</td>\n",
       "      <td>Разработчик Python</td>\n",
       "      <td>None</td>\n",
       "      <td>False</td>\n",
       "      <td>{'id': '1', 'name': 'Москва', 'url': 'https://...</td>\n",
       "      <td>{'from': 120000, 'to': 200000, 'currency': 'RU...</td>\n",
       "      <td>{'id': 'open', 'name': 'Открытая'}</td>\n",
       "      <td>...</td>\n",
       "      <td>None</td>\n",
       "      <td>https://hh.ru/applicant/vacancy_response?vacan...</td>\n",
       "      <td>False</td>\n",
       "      <td>None</td>\n",
       "      <td>https://hh.ru/vacancy/71675473</td>\n",
       "      <td>[]</td>\n",
       "      <td>[]</td>\n",
       "      <td>[]</td>\n",
       "      <td>False</td>\n",
       "      <td>[]</td>\n",
       "    </tr>\n",
       "    <tr>\n",
       "      <th>3</th>\n",
       "      <td>72034802</td>\n",
       "      <td>False</td>\n",
       "      <td>{'id': 'standard_plus', 'name': 'Стандарт плюс'}</td>\n",
       "      <td>[]</td>\n",
       "      <td>Backend-разработчик jun+/mid- (Golang)</td>\n",
       "      <td>None</td>\n",
       "      <td>False</td>\n",
       "      <td>{'id': '1', 'name': 'Москва', 'url': 'https://...</td>\n",
       "      <td>{'from': 100000, 'to': 400000, 'currency': 'RU...</td>\n",
       "      <td>{'id': 'open', 'name': 'Открытая'}</td>\n",
       "      <td>...</td>\n",
       "      <td>None</td>\n",
       "      <td>https://hh.ru/applicant/vacancy_response?vacan...</td>\n",
       "      <td>False</td>\n",
       "      <td>None</td>\n",
       "      <td>https://hh.ru/vacancy/72034802</td>\n",
       "      <td>[]</td>\n",
       "      <td>[]</td>\n",
       "      <td>[]</td>\n",
       "      <td>True</td>\n",
       "      <td>[]</td>\n",
       "    </tr>\n",
       "    <tr>\n",
       "      <th>4</th>\n",
       "      <td>71933927</td>\n",
       "      <td>False</td>\n",
       "      <td>{'id': 'standard_plus', 'name': 'Стандарт плюс'}</td>\n",
       "      <td>[]</td>\n",
       "      <td>Software Developer Python</td>\n",
       "      <td>None</td>\n",
       "      <td>False</td>\n",
       "      <td>{'id': '1', 'name': 'Москва', 'url': 'https://...</td>\n",
       "      <td>{'from': 60000, 'to': 200000, 'currency': 'RUR...</td>\n",
       "      <td>{'id': 'open', 'name': 'Открытая'}</td>\n",
       "      <td>...</td>\n",
       "      <td>None</td>\n",
       "      <td>https://hh.ru/applicant/vacancy_response?vacan...</td>\n",
       "      <td>False</td>\n",
       "      <td>None</td>\n",
       "      <td>https://hh.ru/vacancy/71933927</td>\n",
       "      <td>[]</td>\n",
       "      <td>[{'id': 'from_four_to_six_hours_in_a_day', 'na...</td>\n",
       "      <td>[{'id': 'start_after_sixteen', 'name': 'Можно ...</td>\n",
       "      <td>True</td>\n",
       "      <td>[]</td>\n",
       "    </tr>\n",
       "  </tbody>\n",
       "</table>\n",
       "<p>5 rows × 47 columns</p>\n",
       "</div>"
      ],
      "text/plain": [
       "         id  premium                                      billing_type  \\\n",
       "0  71240928    False  {'id': 'standard_plus', 'name': 'Стандарт плюс'}   \n",
       "1  72047249     True              {'id': 'premium', 'name': 'Премиум'}   \n",
       "2  71675473    False  {'id': 'standard_plus', 'name': 'Стандарт плюс'}   \n",
       "3  72034802    False  {'id': 'standard_plus', 'name': 'Стандарт плюс'}   \n",
       "4  71933927    False  {'id': 'standard_plus', 'name': 'Стандарт плюс'}   \n",
       "\n",
       "  relations                                        name insider_interview  \\\n",
       "0        []         Junior Backend разработчик (Python)              None   \n",
       "1        []  Backend разработчик Python (Middle/Senior)              None   \n",
       "2        []                          Разработчик Python              None   \n",
       "3        []      Backend-разработчик jun+/mid- (Golang)              None   \n",
       "4        []                   Software Developer Python              None   \n",
       "\n",
       "   response_letter_required  \\\n",
       "0                     False   \n",
       "1                     False   \n",
       "2                     False   \n",
       "3                     False   \n",
       "4                     False   \n",
       "\n",
       "                                                area  \\\n",
       "0  {'id': '1', 'name': 'Москва', 'url': 'https://...   \n",
       "1  {'id': '2759', 'name': 'Ташкент', 'url': 'http...   \n",
       "2  {'id': '1', 'name': 'Москва', 'url': 'https://...   \n",
       "3  {'id': '1', 'name': 'Москва', 'url': 'https://...   \n",
       "4  {'id': '1', 'name': 'Москва', 'url': 'https://...   \n",
       "\n",
       "                                              salary  \\\n",
       "0  {'from': None, 'to': 80000, 'currency': 'RUR',...   \n",
       "1  {'from': 1500, 'to': None, 'currency': 'USD', ...   \n",
       "2  {'from': 120000, 'to': 200000, 'currency': 'RU...   \n",
       "3  {'from': 100000, 'to': 400000, 'currency': 'RU...   \n",
       "4  {'from': 60000, 'to': 200000, 'currency': 'RUR...   \n",
       "\n",
       "                                 type  ... suitable_resumes_url  \\\n",
       "0  {'id': 'open', 'name': 'Открытая'}  ...                 None   \n",
       "1  {'id': 'open', 'name': 'Открытая'}  ...                 None   \n",
       "2  {'id': 'open', 'name': 'Открытая'}  ...                 None   \n",
       "3  {'id': 'open', 'name': 'Открытая'}  ...                 None   \n",
       "4  {'id': 'open', 'name': 'Открытая'}  ...                 None   \n",
       "\n",
       "                                 apply_alternate_url has_test  test  \\\n",
       "0  https://hh.ru/applicant/vacancy_response?vacan...    False  None   \n",
       "1  https://hh.ru/applicant/vacancy_response?vacan...    False  None   \n",
       "2  https://hh.ru/applicant/vacancy_response?vacan...    False  None   \n",
       "3  https://hh.ru/applicant/vacancy_response?vacan...    False  None   \n",
       "4  https://hh.ru/applicant/vacancy_response?vacan...    False  None   \n",
       "\n",
       "                    alternate_url working_days  \\\n",
       "0  https://hh.ru/vacancy/71240928           []   \n",
       "1  https://hh.ru/vacancy/72047249           []   \n",
       "2  https://hh.ru/vacancy/71675473           []   \n",
       "3  https://hh.ru/vacancy/72034802           []   \n",
       "4  https://hh.ru/vacancy/71933927           []   \n",
       "\n",
       "                              working_time_intervals  \\\n",
       "0                                                 []   \n",
       "1                                                 []   \n",
       "2                                                 []   \n",
       "3                                                 []   \n",
       "4  [{'id': 'from_four_to_six_hours_in_a_day', 'na...   \n",
       "\n",
       "                                  working_time_modes accept_temporary  \\\n",
       "0                                                 []            False   \n",
       "1                                                 []            False   \n",
       "2                                                 []            False   \n",
       "3                                                 []             True   \n",
       "4  [{'id': 'start_after_sixteen', 'name': 'Можно ...             True   \n",
       "\n",
       "                                           languages  \n",
       "0                                                 []  \n",
       "1  [{'id': 'rus', 'name': 'Русский', 'level': {'i...  \n",
       "2                                                 []  \n",
       "3                                                 []  \n",
       "4                                                 []  \n",
       "\n",
       "[5 rows x 47 columns]"
      ]
     },
     "execution_count": 115,
     "metadata": {},
     "output_type": "execute_result"
    }
   ],
   "source": [
    "df_vacancies = pd.DataFrame(list_vacs)\n",
    "df_vacancies.head()"
   ]
  },
  {
   "cell_type": "markdown",
   "id": "0f869249",
   "metadata": {},
   "source": [
    "> ### Оставляем нужные столбцы"
   ]
  },
  {
   "cell_type": "code",
   "execution_count": 116,
   "id": "08ddf5eb",
   "metadata": {},
   "outputs": [
    {
     "data": {
      "text/plain": [
       "Index(['id', 'premium', 'billing_type', 'relations', 'name',\n",
       "       'insider_interview', 'response_letter_required', 'area', 'salary',\n",
       "       'type', 'address', 'allow_messages', 'experience', 'schedule',\n",
       "       'employment', 'department', 'contacts', 'description',\n",
       "       'branded_description', 'vacancy_constructor_template', 'key_skills',\n",
       "       'accept_handicapped', 'accept_kids', 'archived', 'response_url',\n",
       "       'specializations', 'professional_roles', 'code', 'hidden',\n",
       "       'quick_responses_allowed', 'driver_license_types',\n",
       "       'accept_incomplete_resumes', 'employer', 'published_at', 'created_at',\n",
       "       'initial_created_at', 'negotiations_url', 'suitable_resumes_url',\n",
       "       'apply_alternate_url', 'has_test', 'test', 'alternate_url',\n",
       "       'working_days', 'working_time_intervals', 'working_time_modes',\n",
       "       'accept_temporary', 'languages'],\n",
       "      dtype='object')"
      ]
     },
     "execution_count": 116,
     "metadata": {},
     "output_type": "execute_result"
    }
   ],
   "source": [
    "df_vacancies.columns"
   ]
  },
  {
   "cell_type": "code",
   "execution_count": 117,
   "id": "f16afa98",
   "metadata": {
    "scrolled": false
   },
   "outputs": [],
   "source": [
    "col_filter = ['id', 'name', 'area', 'salary', 'experience', 'schedule', 'employment', 'key_skills', 'employer', 'languages']"
   ]
  },
  {
   "cell_type": "code",
   "execution_count": 118,
   "id": "08bab418",
   "metadata": {},
   "outputs": [],
   "source": [
    "df = df_vacancies.copy()"
   ]
  },
  {
   "cell_type": "code",
   "execution_count": 119,
   "id": "1a2594a6",
   "metadata": {},
   "outputs": [],
   "source": [
    "df_vacancies = df_vacancies[col_filter]"
   ]
  },
  {
   "cell_type": "markdown",
   "id": "8f05b4c9",
   "metadata": {},
   "source": [
    "> ### Получаем значения из словарей"
   ]
  },
  {
   "cell_type": "code",
   "execution_count": 120,
   "id": "e78a9cdd",
   "metadata": {},
   "outputs": [],
   "source": [
    "df_vacancies['area'] = df_vacancies.area.apply(lambda x: x.get('name'))\n",
    "df_vacancies['experience'] = df_vacancies.experience.apply(lambda x: x.get('name'))\n",
    "df_vacancies['schedule'] = df_vacancies.schedule.apply(lambda x: x.get('name'))\n",
    "df_vacancies['employment'] = df_vacancies.employment.apply(lambda x: x.get('name'))\n",
    "df_vacancies['key_skills'] = df_vacancies.key_skills.apply(lambda x: [i.get('name') for i in x])"
   ]
  },
  {
   "cell_type": "code",
   "execution_count": 121,
   "id": "2ca2c257",
   "metadata": {},
   "outputs": [],
   "source": [
    "df_vacancies['salary_from'] = df_vacancies.salary.apply(lambda x: x.get('from') if x is not None else None)\n",
    "df_vacancies['salary_to'] = df_vacancies.salary.apply(lambda x: x.get('to') if x is not None else None)\n",
    "df_vacancies['salary_currency'] = df_vacancies.salary.apply(lambda x: x.get('currency') if x is not None else None)\n",
    "\n",
    "df_vacancies.drop(['salary'], axis=1, inplace=True)"
   ]
  },
  {
   "cell_type": "code",
   "execution_count": 122,
   "id": "d84c7cc0",
   "metadata": {},
   "outputs": [],
   "source": [
    "df_vacancies['employer_id'] = df_vacancies.employer.apply(lambda x: x.get('id'))\n",
    "df_vacancies['employer_name'] = df_vacancies.employer.apply(lambda x: x.get('name'))\n",
    "\n",
    "df_vacancies.drop(['employer'], axis=1, inplace=True)"
   ]
  },
  {
   "cell_type": "code",
   "execution_count": 123,
   "id": "3ce05742",
   "metadata": {},
   "outputs": [],
   "source": [
    "def get_lang(lang: list) -> list:\n",
    "    return [[i.get('name'), i.get('level').get('name')] for i in lang]\n",
    "\n",
    "df_vacancies['languages'] = df_vacancies.languages.apply(get_lang)"
   ]
  },
  {
   "cell_type": "code",
   "execution_count": 124,
   "id": "ba4d0ff4",
   "metadata": {
    "scrolled": true
   },
   "outputs": [
    {
     "data": {
      "text/html": [
       "<div>\n",
       "<style scoped>\n",
       "    .dataframe tbody tr th:only-of-type {\n",
       "        vertical-align: middle;\n",
       "    }\n",
       "\n",
       "    .dataframe tbody tr th {\n",
       "        vertical-align: top;\n",
       "    }\n",
       "\n",
       "    .dataframe thead th {\n",
       "        text-align: right;\n",
       "    }\n",
       "</style>\n",
       "<table border=\"1\" class=\"dataframe\">\n",
       "  <thead>\n",
       "    <tr style=\"text-align: right;\">\n",
       "      <th></th>\n",
       "      <th>id</th>\n",
       "      <th>name</th>\n",
       "      <th>area</th>\n",
       "      <th>experience</th>\n",
       "      <th>schedule</th>\n",
       "      <th>employment</th>\n",
       "      <th>key_skills</th>\n",
       "      <th>languages</th>\n",
       "      <th>salary_from</th>\n",
       "      <th>salary_to</th>\n",
       "      <th>salary_currency</th>\n",
       "      <th>employer_id</th>\n",
       "      <th>employer_name</th>\n",
       "    </tr>\n",
       "  </thead>\n",
       "  <tbody>\n",
       "    <tr>\n",
       "      <th>0</th>\n",
       "      <td>71240928</td>\n",
       "      <td>Junior Backend разработчик (Python)</td>\n",
       "      <td>Москва</td>\n",
       "      <td>От 1 года до 3 лет</td>\n",
       "      <td>Полный день</td>\n",
       "      <td>Полная занятость</td>\n",
       "      <td>[Python, Linux, PostgreSQL, Django Framework, ...</td>\n",
       "      <td>[]</td>\n",
       "      <td>NaN</td>\n",
       "      <td>80000.0</td>\n",
       "      <td>RUR</td>\n",
       "      <td>863273</td>\n",
       "      <td>MillionAgents</td>\n",
       "    </tr>\n",
       "    <tr>\n",
       "      <th>1</th>\n",
       "      <td>72047249</td>\n",
       "      <td>Backend разработчик Python (Middle/Senior)</td>\n",
       "      <td>Ташкент</td>\n",
       "      <td>От 1 года до 3 лет</td>\n",
       "      <td>Полный день</td>\n",
       "      <td>Полная занятость</td>\n",
       "      <td>[PostgreSQL, Git, Python, Django Framework, Li...</td>\n",
       "      <td>[[Русский, C1 — Продвинутый], [Английский, B2 ...</td>\n",
       "      <td>1500.0</td>\n",
       "      <td>NaN</td>\n",
       "      <td>USD</td>\n",
       "      <td>2836478</td>\n",
       "      <td>INSANE GROUP CO</td>\n",
       "    </tr>\n",
       "    <tr>\n",
       "      <th>2</th>\n",
       "      <td>71675473</td>\n",
       "      <td>Разработчик Python</td>\n",
       "      <td>Москва</td>\n",
       "      <td>От 3 до 6 лет</td>\n",
       "      <td>Удаленная работа</td>\n",
       "      <td>Полная занятость</td>\n",
       "      <td>[Python, Django Framework, Pandas]</td>\n",
       "      <td>[]</td>\n",
       "      <td>120000.0</td>\n",
       "      <td>200000.0</td>\n",
       "      <td>RUR</td>\n",
       "      <td>2544353</td>\n",
       "      <td>Инспектор Клауд</td>\n",
       "    </tr>\n",
       "    <tr>\n",
       "      <th>3</th>\n",
       "      <td>72034802</td>\n",
       "      <td>Backend-разработчик jun+/mid- (Golang)</td>\n",
       "      <td>Москва</td>\n",
       "      <td>От 1 года до 3 лет</td>\n",
       "      <td>Полный день</td>\n",
       "      <td>Полная занятость</td>\n",
       "      <td>[Golang, Linux, PostgreSQL, Docker, Python]</td>\n",
       "      <td>[]</td>\n",
       "      <td>100000.0</td>\n",
       "      <td>400000.0</td>\n",
       "      <td>RUR</td>\n",
       "      <td>9244855</td>\n",
       "      <td>Центр Развития Технологий</td>\n",
       "    </tr>\n",
       "    <tr>\n",
       "      <th>4</th>\n",
       "      <td>71933927</td>\n",
       "      <td>Software Developer Python</td>\n",
       "      <td>Москва</td>\n",
       "      <td>От 1 года до 3 лет</td>\n",
       "      <td>Удаленная работа</td>\n",
       "      <td>Полная занятость</td>\n",
       "      <td>[Python, PostgreSQL, Django Framework, Linux, ...</td>\n",
       "      <td>[]</td>\n",
       "      <td>60000.0</td>\n",
       "      <td>200000.0</td>\n",
       "      <td>RUR</td>\n",
       "      <td>4643769</td>\n",
       "      <td>ВЕБ Инфраструктура</td>\n",
       "    </tr>\n",
       "  </tbody>\n",
       "</table>\n",
       "</div>"
      ],
      "text/plain": [
       "         id                                        name     area  \\\n",
       "0  71240928         Junior Backend разработчик (Python)   Москва   \n",
       "1  72047249  Backend разработчик Python (Middle/Senior)  Ташкент   \n",
       "2  71675473                          Разработчик Python   Москва   \n",
       "3  72034802      Backend-разработчик jun+/mid- (Golang)   Москва   \n",
       "4  71933927                   Software Developer Python   Москва   \n",
       "\n",
       "           experience          schedule        employment  \\\n",
       "0  От 1 года до 3 лет       Полный день  Полная занятость   \n",
       "1  От 1 года до 3 лет       Полный день  Полная занятость   \n",
       "2       От 3 до 6 лет  Удаленная работа  Полная занятость   \n",
       "3  От 1 года до 3 лет       Полный день  Полная занятость   \n",
       "4  От 1 года до 3 лет  Удаленная работа  Полная занятость   \n",
       "\n",
       "                                          key_skills  \\\n",
       "0  [Python, Linux, PostgreSQL, Django Framework, ...   \n",
       "1  [PostgreSQL, Git, Python, Django Framework, Li...   \n",
       "2                 [Python, Django Framework, Pandas]   \n",
       "3        [Golang, Linux, PostgreSQL, Docker, Python]   \n",
       "4  [Python, PostgreSQL, Django Framework, Linux, ...   \n",
       "\n",
       "                                           languages  salary_from  salary_to  \\\n",
       "0                                                 []          NaN    80000.0   \n",
       "1  [[Русский, C1 — Продвинутый], [Английский, B2 ...       1500.0        NaN   \n",
       "2                                                 []     120000.0   200000.0   \n",
       "3                                                 []     100000.0   400000.0   \n",
       "4                                                 []      60000.0   200000.0   \n",
       "\n",
       "  salary_currency employer_id              employer_name  \n",
       "0             RUR      863273              MillionAgents  \n",
       "1             USD     2836478            INSANE GROUP CO  \n",
       "2             RUR     2544353            Инспектор Клауд  \n",
       "3             RUR     9244855  Центр Развития Технологий  \n",
       "4             RUR     4643769         ВЕБ Инфраструктура  "
      ]
     },
     "execution_count": 124,
     "metadata": {},
     "output_type": "execute_result"
    }
   ],
   "source": [
    "df_vacancies.head()"
   ]
  },
  {
   "cell_type": "code",
   "execution_count": null,
   "id": "ab44ecf1",
   "metadata": {},
   "outputs": [],
   "source": []
  }
 ],
 "metadata": {
  "kernelspec": {
   "display_name": "Python 3",
   "language": "python",
   "name": "python3"
  },
  "language_info": {
   "codemirror_mode": {
    "name": "ipython",
    "version": 3
   },
   "file_extension": ".py",
   "mimetype": "text/x-python",
   "name": "python",
   "nbconvert_exporter": "python",
   "pygments_lexer": "ipython3",
   "version": "3.8.8"
  }
 },
 "nbformat": 4,
 "nbformat_minor": 5
}
